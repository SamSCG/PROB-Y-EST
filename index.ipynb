{
 "cells": [
  {
   "cell_type": "markdown",
   "id": "e1963d07-3c5f-4cc7-99cd-f541b84f8490",
   "metadata": {},
   "source": [
    "## Graficos\n",
    "Gráficos de estadística realizados en notebooks."
   ]
  },
  {
   "cell_type": "markdown",
   "id": "e28accb9-484a-4f5b-99fd-4c622a9aef5c",
   "metadata": {},
   "source": [
    "## APARTADO DE VINCULOS\n",
    "- [Tabla de datos cuantitativos discretos](nootbook_3.ipynb)\n",
    "- [Tabla de cuantitativos continuos](notebook_2.ipynb)\n",
    "- [Tabla de datos cualitativos](Nootebook1.ipynb)"
   ]
  },
  {
   "cell_type": "code",
   "execution_count": null,
   "id": "9b804dae-24a7-4465-8409-fb60ba9711a1",
   "metadata": {},
   "outputs": [],
   "source": []
  }
 ],
 "metadata": {
  "kernelspec": {
   "display_name": "Python 3 (ipykernel)",
   "language": "python",
   "name": "python3"
  },
  "language_info": {
   "codemirror_mode": {
    "name": "ipython",
    "version": 3
   },
   "file_extension": ".py",
   "mimetype": "text/x-python",
   "name": "python",
   "nbconvert_exporter": "python",
   "pygments_lexer": "ipython3",
   "version": "3.13.4"
  }
 },
 "nbformat": 4,
 "nbformat_minor": 5
}
